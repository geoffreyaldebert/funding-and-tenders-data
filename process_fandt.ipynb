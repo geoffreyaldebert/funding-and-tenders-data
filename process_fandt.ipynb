{
 "cells": [
  {
   "cell_type": "code",
   "execution_count": null,
   "id": "8b8fdf77",
   "metadata": {},
   "outputs": [],
   "source": [
    "import requests\n",
    "import pandas as pd\n",
    "pd.options.display.max_columns = 100\n",
    "import json"
   ]
  },
  {
   "cell_type": "markdown",
   "id": "87a9232a",
   "metadata": {},
   "source": [
    "# Get all topicsIds"
   ]
  },
  {
   "cell_type": "markdown",
   "id": "d8dc93a4",
   "metadata": {},
   "source": [
    "Les données sont dans un elasticsearch (a priori). On ne peut requêter que les 10000 premiers résultats.\n",
    "Pour avoir une base complète, on passe par les topics qui pour chacun d'entre eux ne dépassent pas les 10k projets."
   ]
  },
  {
   "cell_type": "code",
   "execution_count": null,
   "id": "fe59af47",
   "metadata": {},
   "outputs": [],
   "source": [
    "r = requests.post(\"https://api.tech.ec.europa.eu/search-api/prod/rest/facet?apiKey=SEDIA_NONH2020_PROD&text=***\")"
   ]
  },
  {
   "cell_type": "code",
   "execution_count": null,
   "id": "177e1230",
   "metadata": {},
   "outputs": [],
   "source": [
    "data = r.json()"
   ]
  },
  {
   "cell_type": "code",
   "execution_count": null,
   "id": "c3de7488",
   "metadata": {},
   "outputs": [],
   "source": [
    "for d in data[\"facets\"]:\n",
    "    if d[\"rawName\"] == \"topicAbbreviation\":\n",
    "        topics = d "
   ]
  },
  {
   "cell_type": "code",
   "execution_count": null,
   "id": "eb3a6f46",
   "metadata": {},
   "outputs": [],
   "source": [
    "topicsIds = []\n",
    "for t in topics[\"values\"]:\n",
    "    topicsIds.append({ \"id\": t[\"rawValue\"], \"name\": t[\"value\"] })"
   ]
  },
  {
   "cell_type": "markdown",
   "id": "b86587d7",
   "metadata": {},
   "source": [
    "# Get all projects"
   ]
  },
  {
   "cell_type": "code",
   "execution_count": null,
   "id": "17b2c78e",
   "metadata": {},
   "outputs": [],
   "source": [
    "projects = []"
   ]
  },
  {
   "cell_type": "code",
   "execution_count": null,
   "id": "005aeca7",
   "metadata": {},
   "outputs": [],
   "source": [
    "i = 0\n",
    "for t in topicsIds:\n",
    "    i += 1\n",
    "    if t[\"id\"] == \"DT-TRANSFORMATIONS-21-2020\":\n",
    "        print(i)"
   ]
  },
  {
   "cell_type": "code",
   "execution_count": null,
   "id": "5b862546",
   "metadata": {},
   "outputs": [],
   "source": [
    "for tid in topicsIds:\n",
    "    print(tid[\"id\"])\n",
    "    url = \"https://api.tech.ec.europa.eu/search-api/prod/rest/search?apiKey=SEDIA_NONH2020_PROD&text=\" + tid[\"id\"] + \"&pageSize=1&pageNumber=1\"\n",
    "    r = requests.post(url)\n",
    "    data = r.json()\n",
    "    print(data[\"totalResults\"], \" résultats\")\n",
    "    pages = int(data[\"totalResults\"] / 100) + 1\n",
    "    for i in range(pages):\n",
    "        print(\"page \", i+1)\n",
    "        url2 = \"https://api.tech.ec.europa.eu/search-api/prod/rest/search?apiKey=SEDIA_NONH2020_PROD&text=\" + tid[\"id\"] + \"&pageSize=100&pageNumber=\" + str(i+1)\n",
    "        r2 = requests.post(url2)\n",
    "        data2 = r2.json()\n",
    "        for result in data2[\"results\"]:\n",
    "            mydict = {}\n",
    "            for column in result:\n",
    "                if column != 'metadata':\n",
    "                    mydict[column] = result[column]\n",
    "                else:\n",
    "                    for metadata in result['metadata']:\n",
    "                        if isinstance(result['metadata'][metadata], list):\n",
    "                            mydict[metadata] = \";\".join(result['metadata'][metadata])\n",
    "                        else:\n",
    "                            mydict[metadata] = result['metadata'][metadata]\n",
    "            projects.append(mydict)\n",
    "\n",
    "            "
   ]
  },
  {
   "cell_type": "markdown",
   "id": "f34c92e6",
   "metadata": {},
   "source": [
    "On a des doublons"
   ]
  },
  {
   "cell_type": "code",
   "execution_count": null,
   "id": "d60caed1",
   "metadata": {},
   "outputs": [],
   "source": [
    "len(projects)"
   ]
  },
  {
   "cell_type": "code",
   "execution_count": null,
   "id": "df041d02",
   "metadata": {},
   "outputs": [],
   "source": [
    "df = pd.DataFrame(projects)"
   ]
  },
  {
   "cell_type": "code",
   "execution_count": null,
   "id": "12386792",
   "metadata": {},
   "outputs": [],
   "source": [
    "df.shape"
   ]
  },
  {
   "cell_type": "markdown",
   "id": "bbc2f500",
   "metadata": {},
   "source": [
    "Donc on dédoublonne :"
   ]
  },
  {
   "cell_type": "code",
   "execution_count": null,
   "id": "9c9ac08b",
   "metadata": {},
   "outputs": [],
   "source": [
    "df = df.drop_duplicates(subset=[\"projectId\"], keep=\"first\")"
   ]
  },
  {
   "cell_type": "code",
   "execution_count": null,
   "id": "b9d6f3f5",
   "metadata": {},
   "outputs": [],
   "source": [
    "df.shape"
   ]
  },
  {
   "cell_type": "markdown",
   "id": "ef1283ef",
   "metadata": {},
   "source": [
    "On garde les colonnes intéressantes"
   ]
  },
  {
   "cell_type": "code",
   "execution_count": null,
   "id": "dc5412f3",
   "metadata": {},
   "outputs": [],
   "source": [
    "df = df[['reference', 'url', 'title', 'summary',\n",
    "       'content', 'checksum', 'subTypeOfAction',\n",
    "       'typeOfAction', 'endDate', 'projectWebsite',\n",
    "       'deliverables', 'objective',\n",
    "       'freeKeywords', 'subProgramme',\n",
    "       'topicAbbreviation', 'overallBudget', 'topicDescription',\n",
    "       'participants', 'acronym', 'programmePeriod',\n",
    "       'programmes', 'euContributionRate',\n",
    "       'euContributionAmount', 'ecSignatureDate', 'topicId',\n",
    "       'programDescription', 'fundedUnder', 'programAbbreviation', 'projectId',\n",
    "       'programId', 'startDate', 'publications', 'summaries', 'status',\n",
    "       'destination',\n",
    "       'destinationGroup', 'programmeDivision', 'crossCuttingPriorities',\n",
    "       'mission', 'missionGroup']]"
   ]
  },
  {
   "cell_type": "code",
   "execution_count": null,
   "id": "0e7fd59f",
   "metadata": {},
   "outputs": [],
   "source": [
    "df[\"url\"] = df[\"url\"].apply(lambda x: x.replace(\"uri -> \", \"\"))"
   ]
  },
  {
   "cell_type": "markdown",
   "id": "775f1cb1",
   "metadata": {},
   "source": [
    "On créé des fichiers à part pour certaines propriétés qui sont des tableaux"
   ]
  },
  {
   "cell_type": "code",
   "execution_count": null,
   "id": "bdf85764",
   "metadata": {},
   "outputs": [],
   "source": [
    "df"
   ]
  },
  {
   "cell_type": "code",
   "execution_count": null,
   "id": "ad1f0e3c",
   "metadata": {},
   "outputs": [],
   "source": [
    "for element in [\"deliverables\", \"participants\", \"publications\", \"summaries\"]:\n",
    "    print(element)\n",
    "    arr_element = []\n",
    "    df_element = df[[\"reference\", \"programId\", \"projectId\", element]]\n",
    "    for index, row in df_element.iterrows():\n",
    "        if row[element] == row[element]:\n",
    "            try:\n",
    "                dict_element = json.loads(row[element])\n",
    "                for de in dict_element:\n",
    "                    mydict = de\n",
    "                    mydict[\"programId\"] = row[\"programId\"]\n",
    "                    mydict[\"projectId\"] = row[\"projectId\"]\n",
    "                    mydict[\"reference\"] = row[\"reference\"]\n",
    "                    arr_element.append(mydict)\n",
    "            except:\n",
    "                pass\n",
    "    dfinter = pd.DataFrame(arr_element)\n",
    "    dfinter.to_csv(\"data/\" + element + \".csv\", index=False, sep=\";\")\n"
   ]
  },
  {
   "cell_type": "markdown",
   "id": "b9058014",
   "metadata": {},
   "source": [
    "On enlève les propriétés ci-dessus"
   ]
  },
  {
   "cell_type": "code",
   "execution_count": null,
   "id": "e10c7c61",
   "metadata": {},
   "outputs": [],
   "source": [
    "df = df[[\n",
    "    'reference', 'url', 'title', 'summary', 'content', 'checksum',\n",
    "       'subTypeOfAction', 'typeOfAction', 'endDate', 'projectWebsite',\n",
    "       'objective', 'freeKeywords', 'subProgramme',\n",
    "       'topicAbbreviation', 'overallBudget', 'topicDescription',\n",
    "       'acronym', 'programmePeriod', 'programmes',\n",
    "       'euContributionRate', 'euContributionAmount', 'ecSignatureDate',\n",
    "       'topicId', 'programDescription', 'fundedUnder', 'programAbbreviation',\n",
    "       'projectId', 'programId', 'startDate',\n",
    "       'status', 'destination', 'destinationGroup',\n",
    "       'programmeDivision', 'crossCuttingPriorities', 'mission',\n",
    "       'missionGroup'\n",
    "]]"
   ]
  },
  {
   "cell_type": "markdown",
   "id": "788fc9a2",
   "metadata": {},
   "source": [
    "On sauvegarde"
   ]
  },
  {
   "cell_type": "code",
   "execution_count": null,
   "id": "56a7aa69",
   "metadata": {},
   "outputs": [],
   "source": [
    "df.to_csv(\"data/projects.csv\", index=False, sep=\";\")"
   ]
  },
  {
   "cell_type": "code",
   "execution_count": null,
   "id": "7a599d52",
   "metadata": {},
   "outputs": [],
   "source": [
    "arr = []\n",
    "for index, row in df.iterrows():\n",
    "    mydict = {}\n",
    "    row = row.to_dict()\n",
    "    for column in row:\n",
    "        if column != \"postalAddress\":\n",
    "            mydict[column] = row[column]\n",
    "        else:\n",
    "            if isinstance(row[column], object):\n",
    "                for item in eval(row[column]):\n",
    "                    if item != \"countryCode\":\n",
    "                        mydict[column + \".\" + item] = eval(row[column])[item]\n",
    "                    else:\n",
    "                        for item2 in eval(row[column])[item]:\n",
    "                            mydict[item + \".\" + item2] = eval(row[column])[item][item2]\n",
    "    arr.append(mydict)"
   ]
  },
  {
   "cell_type": "code",
   "execution_count": null,
   "id": "19f94552",
   "metadata": {},
   "outputs": [],
   "source": [
    "df = pd.DataFrame(arr)"
   ]
  },
  {
   "cell_type": "code",
   "execution_count": null,
   "id": "8e1f1a87",
   "metadata": {},
   "outputs": [],
   "source": [
    "df.to_csv(\"data/participants.csv\", index=False, sep=\";\")"
   ]
  },
  {
   "cell_type": "code",
   "execution_count": null,
   "id": "32b5496b",
   "metadata": {},
   "outputs": [],
   "source": []
  }
 ],
 "metadata": {
  "kernelspec": {
   "display_name": "Python 3 (ipykernel)",
   "language": "python",
   "name": "python3"
  },
  "language_info": {
   "codemirror_mode": {
    "name": "ipython",
    "version": 3
   },
   "file_extension": ".py",
   "mimetype": "text/x-python",
   "name": "python",
   "nbconvert_exporter": "python",
   "pygments_lexer": "ipython3",
   "version": "3.8.12"
  }
 },
 "nbformat": 4,
 "nbformat_minor": 5
}
